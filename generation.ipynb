{
 "cells": [
  {
   "cell_type": "markdown",
   "metadata": {
    "id": "9T1syz7nCQ0Z"
   },
   "source": [
    "# Machine Problem: Conditional Probability (Data Generation)\n",
    "\n",
    "This [Python](https://www.python.org) challenge uses [numpy](https://numpy.org/) and its `random` module to generate pseudo random numbers."
   ]
  },
  {
   "cell_type": "code",
   "execution_count": null,
   "metadata": {
    "id": "FouOFmiiCQ0b"
   },
   "outputs": [],
   "source": [
    "import numpy as np\n",
    "from numpy.random import randint\n",
    "from numpy.random import binomial\n",
    "import pandas as pd\n",
    "import matplotlib.pyplot as plt"
   ]
  },
  {
   "cell_type": "markdown",
   "metadata": {
    "id": "YIb46IeGCQ0c"
   },
   "source": [
    "The block below comes from the challenge itself."
   ]
  },
  {
   "cell_type": "code",
   "execution_count": null,
   "metadata": {
    "id": "oR72r-Z_CQ0c"
   },
   "outputs": [],
   "source": [
    "def jar_seq(jar_number, seq_length=1):\n",
    "    # Return random drawings from specified jar\n",
    "    #\n",
    "    if jar_number == 0:\n",
    "        prob_one = 192 / 384\n",
    "    elif jar_number == 1:\n",
    "        prob_one = 256 / 384\n",
    "    else:\n",
    "        prob_one = 0\n",
    "    outcomes = binomial(1, prob_one, seq_length)\n",
    "    return outcomes\n",
    "\n",
    "def jar_rnd_seq(seq_length=1):\n",
    "    # Return random drawings from Jar 0 or Jar 1\n",
    "    #\n",
    "    jar_rnd_labels = binomial(1, 0.5, seq_length)\n",
    "    jar0_out = jar_seq(0, seq_length)\n",
    "    jar1_out = jar_seq(1, seq_length)\n",
    "    outcomes = np.multiply(jar_rnd_labels,jar0_out) + np.multiply(np.ones(jar_rnd_labels.shape) - jar_rnd_labels,jar1_out)\n",
    "    return outcomes.astype(int), jar_rnd_labels"
   ]
  },
  {
   "cell_type": "markdown",
   "metadata": {
    "id": "0pvULhGdCQ0d"
   },
   "source": [
    "The block below generates the data files for this machine problem."
   ]
  },
  {
   "cell_type": "code",
   "execution_count": null,
   "metadata": {
    "colab": {
     "base_uri": "https://localhost:8080/",
     "height": 282
    },
    "id": "bJtfgfXbQx5h",
    "outputId": "cfcd97e6-00eb-41fb-96ef-649538653678"
   },
   "outputs": [],
   "source": [
    "seq_length = 2000\n",
    "\n",
    "jar_outcomes1, jar_labels1 = jar_rnd_seq(seq_length)\n",
    "\n",
    "data_observation1 = {'O1': jar_outcomes1}\n",
    "df_observation1 = pd.DataFrame(data=data_observation1)\n",
    "df_observation1.to_csv(\"input1.csv\")\n",
    "\n",
    "decision1 = np.zeros(jar_labels1.shape).astype(int)\n",
    "data_decision1 = {'decision1': decision1}\n",
    "df_decision1 = pd.DataFrame(data=data_decision1)\n",
    "df_decision1.to_csv(\"output1.csv\")\n",
    "\n",
    "data_labels1 = {'solution1': jar_labels1}\n",
    "df_labels1 = pd.DataFrame(data=data_labels1)\n",
    "df_labels1.to_csv(\"labels1.csv\")\n",
    "\n",
    "\n",
    "df_observation16 = pd.DataFrame(columns=('O1','O2','O3','O4','O5','O6','O7','O8','O9','O10','O11','O12','O13','O14','O15','O16'))\n",
    "jar_labels16 = binomial(1, 0.5, seq_length)\n",
    "for idx in range(len(jar_labels16)):\n",
    "    observation_seq = jar_seq(jar_labels16[idx], 16)\n",
    "    df_observation16.loc[idx] = list(observation_seq)\n",
    "df_observation16.to_csv(\"input16.csv\")\n",
    "\n",
    "decision16 = np.zeros(jar_labels16.shape).astype(int)\n",
    "data_decision16 = {'decision16': decision16}\n",
    "df_decision16 = pd.DataFrame(data=data_decision16)\n",
    "df_decision16.to_csv(\"output1.csv\")\n",
    "\n",
    "data_labels16 = {'solution16': jar_labels16}\n",
    "df_labels16 = pd.DataFrame(data=data_labels16)\n",
    "df_labels16.to_csv(\"labels16.csv\")"
   ]
  }
 ],
 "metadata": {
  "colab": {
   "name": "1challenge.ipynb",
   "provenance": []
  },
  "kernelspec": {
   "display_name": "Python 3",
   "language": "python",
   "name": "python3"
  },
  "language_info": {
   "codemirror_mode": {
    "name": "ipython",
    "version": 3
   },
   "file_extension": ".py",
   "mimetype": "text/x-python",
   "name": "python",
   "nbconvert_exporter": "python",
   "pygments_lexer": "ipython3",
   "version": "3.7.9"
  }
 },
 "nbformat": 4,
 "nbformat_minor": 1
}
