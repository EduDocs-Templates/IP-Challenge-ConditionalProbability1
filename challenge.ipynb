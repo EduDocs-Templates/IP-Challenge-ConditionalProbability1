{
 "cells": [
  {
   "cell_type": "markdown",
   "metadata": {
    "id": "9T1syz7nCQ0Z"
   },
   "source": [
    "# Machine Problem: Conditional Probability\n",
    "\n",
    "This [Python](https://www.python.org) challenge uses [numpy](https://numpy.org/) and its `random` module to generate pseudo random numbers.\n",
    "Remember to import modules whenever needed."
   ]
  },
  {
   "cell_type": "code",
   "execution_count": null,
   "metadata": {
    "id": "FouOFmiiCQ0b"
   },
   "outputs": [],
   "source": [
    "import numpy as np\n",
    "from numpy.random import randint\n",
    "from numpy.random import binomial\n",
    "import pandas as pd\n",
    "import matplotlib.pyplot as plt"
   ]
  },
  {
   "cell_type": "markdown",
   "metadata": {
    "id": "YIb46IeGCQ0c"
   },
   "source": [
    "Consider two jars containing balls marked zeros and ones.\n",
    "Jar 0 has 192 zeros and 192 ones.\n",
    "On the other hand, Jar 1 has 128 zeros and 256 ones.\n",
    "We begin by writing a method to generate a sequence of drawings with replacement from Jar 1 and Jar 2.\n",
    "Each drawing should have the appropriate probability, and the total number of samples in the sequence should be `seq_length`."
   ]
  },
  {
   "cell_type": "code",
   "execution_count": null,
   "metadata": {
    "id": "oR72r-Z_CQ0c"
   },
   "outputs": [],
   "source": [
    "def jar_seq(jar_number, seq_length=1):\n",
    "    # Return random drawings from specified jar\n",
    "    #\n",
    "    if jar_number == 0:\n",
    "        prob_one = 192 / 384\n",
    "    elif jar_number == 1:\n",
    "        prob_one = 256 / 384\n",
    "    else:\n",
    "        prob_one = 0\n",
    "    outcomes = binomial(1, prob_one, seq_length)\n",
    "    return outcomes\n",
    "\n",
    "def jar_rnd_seq(seq_length=1):\n",
    "    # Return random drawings from Jar 0 or Jar 1\n",
    "    #\n",
    "    jar_rnd_labels = binomial(1, 0.5, seq_length)\n",
    "    jar0_out = jar_seq(0, seq_length)\n",
    "    jar1_out = jar_seq(1, seq_length)\n",
    "    outcomes = np.multiply(jar_rnd_labels,jar0_out) + np.multiply(np.ones(jar_rnd_labels.shape) - jar_rnd_labels,jar1_out)\n",
    "    return outcomes.astype(int), jar_rnd_labels"
   ]
  },
  {
   "cell_type": "markdown",
   "metadata": {
    "id": "0pvULhGdCQ0d"
   },
   "source": [
    "Using a large number of samples and empirical averaging, estimate the probability of getting a one when drawing from Jar 0, from Jar 1, and from a random selection thereof.\n",
    "Make sure that these estimates match your expectations."
   ]
  },
  {
   "cell_type": "code",
   "execution_count": null,
   "metadata": {
    "colab": {
     "base_uri": "https://localhost:8080/",
     "height": 282
    },
    "id": "bJtfgfXbQx5h",
    "outputId": "cfcd97e6-00eb-41fb-96ef-649538653678"
   },
   "outputs": [],
   "source": [
    "seq_length = 10000\n",
    "\n",
    "jar0_outcomes = jar_seq(0, seq_length)\n",
    "epmf0 = np.bincount(jar0_outcomes) / seq_length\n",
    "\n",
    "jar1_outcomes = jar_seq(1, seq_length)\n",
    "epmf1 = np.bincount(jar1_outcomes) / seq_length\n",
    "\n",
    "jar_outcomes, jar_labels = jar_rnd_seq(seq_length)\n",
    "epmf = np.bincount(jar_outcomes) / seq_length\n",
    "\n",
    "plt.bar([0, 1], epmf)\n",
    "plt.show"
   ]
  },
  {
   "cell_type": "markdown",
   "metadata": {
    "id": "6vcigBQSWiJj"
   },
   "source": [
    "Write code that compute the empirical average of the observed sequence `jar_outcomes`, conditioned on the event that the samples are either coming from Jar 0, or for Jar 1.\n",
    "In other words, sift through the sequence and only retain the values of `jar_outcomes` corresponding to Jar 0, then compute the empirical average for these values.\n",
    "Likewise, sift through the sequence and only retain the values of `jar_outcomes` corresponding to Jar 1, then compute the empirical average for these values."
   ]
  },
  {
   "cell_type": "code",
   "execution_count": null,
   "metadata": {
    "colab": {
     "base_uri": "https://localhost:8080/",
     "height": 282
    },
    "id": "0s9m1mZxRsct",
    "outputId": "9a4624b8-d925-4993-915d-7b98202edf0e"
   },
   "outputs": [],
   "source": [
    "seq_length = 10000\n",
    "jar_outcomes, jar_labels = jar_rnd_seq(seq_length)\n",
    "\n",
    "jar_outcomes_cond0 = []\n",
    "jar_outcomes_cond1 = []\n",
    "for idx in range(len(jar_labels)):\n",
    "    if jar_labels[idx] == 0:\n",
    "        jar_outcomes_cond0.append(jar_outcomes[idx])\n",
    "    # EDIT\n",
    "    #\n",
    "\n",
    "epmf_cond0 = np.bincount(jar_outcomes_cond0) / len(jar_outcomes_cond0)\n",
    "plt.bar([0, 1], epmf_cond0)\n",
    "plt.show"
   ]
  },
  {
   "cell_type": "markdown",
   "metadata": {
    "id": "YR-hmdIb_EuA"
   },
   "source": [
    "Try to infer the relation between the empirical average obtained using the conditioning on Jar 0 and the empirical average obtained when drawing from Jar 0 only.\n",
    "You are now asked to guess the value of the jar (0 or 1) based on the observations you see.\n",
    "In doing so, you wish to minimize the probability of being wrong.\n",
    "\n",
    "  1. If you are given only one observation, what should be your decision rule to select Jar 0 or Jar 1?\n",
    "  2. If you are given 16 observations all of them coming from the same (unknown jar), what should be your decision rule to decide whether all these observations came from Jar 0 or Jar 1?\n",
    "\n",
    "Implement your decision rules below in Python."
   ]
  },
  {
   "cell_type": "code",
   "execution_count": null,
   "metadata": {
    "colab": {
     "base_uri": "https://localhost:8080/"
    },
    "id": "c-rou45VCQ0d",
    "outputId": "aba33419-7125-4bae-dce9-de81be87ec7a"
   },
   "outputs": [],
   "source": [
    "# EDIT\n",
    "#\n"
   ]
  },
  {
   "cell_type": "markdown",
   "metadata": {
    "id": "7f6BVoU_CQ0e"
   },
   "source": [
    "Apply your decision rule to the two data sets contained in this repository.\n",
    "The first data set `input1.csv` contains one observation per line, and you should decide whether each line is coming from Jar 0 or Jar 1.\n",
    "The second data set `input16.csv` contains 16 observations per line (drawn with replacement), all of which from the same jar; you should deice whether each line is coming from Jar 0 or Jar 1.\n",
    "Write you decisions to CSV files in the prescribed format.\n",
    "Add and commit these files to your GitHub repository.\n",
    "Use the prescribed format for your output files.\n",
    "In particular, they should have the right names and structure."
   ]
  },
  {
   "cell_type": "code",
   "execution_count": null,
   "metadata": {
    "colab": {
     "base_uri": "https://localhost:8080/"
    },
    "id": "Bl8vtK4XTSEP",
    "outputId": "d79cd8be-1b6a-4ca1-a978-f0edb0819fb2"
   },
   "outputs": [],
   "source": [
    "df_input1 = pd.read_csv('input1.csv', index_col=0)\n",
    "df_input16 = pd.read_csv('input16.csv', index_col=0)\n",
    "\n",
    "Observation1 = df_input1['O1'].to_numpy()\n",
    "Observation16 = df_input16.to_numpy()\n",
    "print(Observation1.shape)\n",
    "print(Observation16.shape)\n",
    "\n",
    "# EDIT\n",
    "#\n",
    "\n",
    "decision1 = np.zeros(len(Observation1)).astype(int)\n",
    "data_decision1 = {'decision1': decision1}\n",
    "df_decision1 = pd.DataFrame(data=data_decision1)\n",
    "df_decision1.to_csv(\"output1.csv\")\n",
    "\n",
    "# EDIT\n",
    "#\n",
    "\n",
    "decision16 = np.zeros(len(Observation16)).astype(int)\n",
    "data_decision16 = {'decision16': decision16}\n",
    "df_decision16 = pd.DataFrame(data=data_decision16)\n",
    "df_decision16.to_csv(\"output16.csv\")\n",
    "\n",
    "print(decision1.shape)\n",
    "print(decision16.shape)"
   ]
  },
  {
   "cell_type": "markdown",
   "metadata": {},
   "source": [
    "Would you have different decision rules if the Jar 0 and Jar 1 were not equally likely?\n",
    "If yes, how so?"
   ]
  }
 ],
 "metadata": {
  "colab": {
   "name": "1challenge.ipynb",
   "provenance": []
  },
  "kernelspec": {
   "display_name": "Python 3",
   "language": "python",
   "name": "python3"
  },
  "language_info": {
   "codemirror_mode": {
    "name": "ipython",
    "version": 3
   },
   "file_extension": ".py",
   "mimetype": "text/x-python",
   "name": "python",
   "nbconvert_exporter": "python",
   "pygments_lexer": "ipython3",
   "version": "3.7.9"
  }
 },
 "nbformat": 4,
 "nbformat_minor": 1
}
